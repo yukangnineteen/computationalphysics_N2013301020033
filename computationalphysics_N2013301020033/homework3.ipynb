{
 "cells": [
  {
   "cell_type": "markdown",
   "metadata": {},
   "source": [
    "> # Homework3  \n",
    "> ## **My Student Number is 2013301020033**\n",
    "\n",
    "---------------------------\n",
    "\n",
    "> \"作业L1 在屏幕上用字符拼出自己姓名的英文\"  \n",
    "> \"作业L2 在屏幕上用字符拼出任意次序的姓名\"  \n",
    "> \"作业L3 在80*80点阵上用字符拼出你想画的东西，希望脑洞大开！（比如字符，火柴人，实现移动、旋转等等）\" \n",
    "\n",
    "## 使用说明：\n",
    "1. 运行源代码CELL，定义了函数`stramplifier()`，在新cell中输入：`stramplifier()`，根据提示输入需要放大的字母(可以是任意大小写字母和`.!`).\n",
    "\n",
    "## 感谢：\n",
    "- 感谢Brookg在CSND上传的[C语言点阵放大字母](http://download.csdn.net/detail/brookg/8706529)字母编码库。\n",
    "\n",
    "-------------------------"
   ]
  },
  {
   "cell_type": "markdown",
   "metadata": {},
   "source": [
    "> ## Homework3_leve_l & level_2  "
   ]
  },
  {
   "cell_type": "markdown",
   "metadata": {},
   "source": [
    "### 首先是源代码Cell:"
   ]
  },
  {
   "cell_type": "code",
   "execution_count": 2,
   "metadata": {
    "collapsed": true
   },
   "outputs": [],
   "source": [
    "# 源代码CELL\n",
    "# 源代码CELL\n",
    "# 源代码CELL\n",
    "# -*- coding: utf-8 -*-\n",
    "\"\"\"\n",
    "Created on Sat Mar 12 15:33:43 2016\n",
    "\n",
    "@author: Guoguo\n",
    "\"\"\"\n",
    "\n",
    "\n",
    "__author__='Yue Shaosheng'\n",
    "\n",
    "alphabet=[\t\t\t\t\t\t\t\t\t\t\t\t\t\t\t\n",
    "    [ 0x00, 0x00, 0x2f, 0x00, 0x00 ],   # !\n",
    "    [ 0x00, 0x60, 0x60, 0x00, 0x00 ],   # .    \n",
    "    \n",
    "    [ 0x7E, 0x11, 0x11, 0x11, 0x7E ],   # A\n",
    "    [ 0x7F, 0x49, 0x49, 0x49, 0x36 ],   # B\n",
    "    [ 0x3E, 0x41, 0x41, 0x41, 0x22 ],   # C\n",
    "    [ 0x7F, 0x41, 0x41, 0x22, 0x1C ],   # D\n",
    "    [ 0x7F, 0x49, 0x49, 0x49, 0x41 ],   # E\n",
    "    [ 0x7F, 0x09, 0x09, 0x09, 0x01 ],   # F\n",
    "    [ 0x3E, 0x41, 0x49, 0x49, 0x7A ],   # G\n",
    "    [ 0x7F, 0x08, 0x08, 0x08, 0x7F ],   # H\n",
    "    [ 0x00, 0x41, 0x7F, 0x41, 0x00 ],   # I\n",
    "    [ 0x20, 0x40, 0x41, 0x3F, 0x01 ],   # J\n",
    "    [ 0x7F, 0x08, 0x14, 0x22, 0x41 ],   # K\n",
    "    [ 0x7F, 0x40, 0x40, 0x40, 0x40 ],   # L\n",
    "    [ 0x7F, 0x02, 0x0C, 0x02, 0x7F ],   # M\n",
    "    [ 0x7F, 0x04, 0x08, 0x10, 0x7F ],   # N\n",
    "    [ 0x3E, 0x41, 0x41, 0x41, 0x3E ],   # O\n",
    "    [ 0x7F, 0x09, 0x09, 0x09, 0x06 ],   # P\n",
    "    [ 0x3E, 0x41, 0x51, 0x21, 0x5E ],   # Q\n",
    "    [ 0x7F, 0x09, 0x19, 0x29, 0x46 ],   # R\n",
    "    [ 0x46, 0x49, 0x49, 0x49, 0x31 ],   # S\n",
    "    [ 0x01, 0x01, 0x7F, 0x01, 0x01 ],   # T\n",
    "    [ 0x3F, 0x40, 0x40, 0x40, 0x3F ],   # U\n",
    "    [ 0x1F, 0x20, 0x40, 0x20, 0x1F ],   # V\n",
    "    [ 0x3F, 0x40, 0x38, 0x40, 0x3F ],   # W\n",
    "    [ 0x63, 0x14, 0x08, 0x14, 0x63 ],   # X\n",
    "    [ 0x07, 0x08, 0x70, 0x08, 0x07 ],   # Y\n",
    "    [ 0x61, 0x51, 0x49, 0x45, 0x43 ],   # Z\n",
    "        \n",
    "    [ 0x20, 0x54, 0x54, 0x54, 0x78 ],   # a\n",
    "    [ 0x7F, 0x48, 0x44, 0x44, 0x38 ],   # b\n",
    "    [ 0x38, 0x44, 0x44, 0x44, 0x20 ],   # c\n",
    "    [ 0x38, 0x44, 0x44, 0x48, 0x7F ],   # d\n",
    "    [ 0x38, 0x54, 0x54, 0x54, 0x18 ],   # e\n",
    "    [ 0x08, 0x7E, 0x09, 0x01, 0x02 ],   # f\n",
    "    [ 0x0C, 0x52, 0x52, 0x52, 0x3E ],   # g\n",
    "    [ 0x7F, 0x08, 0x04, 0x04, 0x78 ],   # h\n",
    "    [ 0x00, 0x44, 0x7D, 0x40, 0x00 ],   # i\n",
    "    [ 0x20, 0x40, 0x44, 0x3D, 0x00 ],   # j\n",
    "    [ 0x7F, 0x10, 0x28, 0x44, 0x00 ],   # k\n",
    "    [ 0x00, 0x41, 0x7F, 0x40, 0x00 ],   # l\n",
    "    [ 0x7C, 0x04, 0x18, 0x04, 0x78 ],   # m\n",
    "    [ 0x7C, 0x08, 0x04, 0x04, 0x78 ],   # n\n",
    "    [ 0x38, 0x44, 0x44, 0x44, 0x38 ],   # o\n",
    "    [ 0x7C, 0x14, 0x14, 0x14, 0x08 ],   # p\n",
    "    [ 0x08, 0x14, 0x14, 0x18, 0x7C ],   # q\n",
    "    [ 0x7C, 0x08, 0x04, 0x04, 0x08 ],   # r\n",
    "    [ 0x48, 0x54, 0x54, 0x54, 0x20 ],   # s\n",
    "    [ 0x04, 0x3F, 0x44, 0x40, 0x20 ],   # t\n",
    "    [ 0x3C, 0x40, 0x40, 0x20, 0x7C ],   # u\n",
    "    [ 0x1C, 0x20, 0x40, 0x20, 0x1C ],   # v\n",
    "    [ 0x3C, 0x40, 0x30, 0x40, 0x3C ],   # w\n",
    "    [ 0x44, 0x28, 0x10, 0x28, 0x44 ],   # x\n",
    "    [ 0x0C, 0x50, 0x50, 0x50, 0x3C ],   # y\n",
    "    [ 0x44, 0x64, 0x54, 0x4C, 0x44 ]    # z\n",
    "]\n",
    "def stramplifier(cpl=7,interspace=1):    #cpl:chars_per_line\n",
    "    inputletters=raw_input('Please input the strings you want to amplify:\\n')\n",
    "    l=len(inputletters)\n",
    "    lines=l/cpl\n",
    "    for n in range(lines):\n",
    "            \n",
    "        for i in range(7):\n",
    "            for j in range(cpl):\n",
    "                ch=inputletters[j+cpl*n]\n",
    "                if ch>='A' and ch<='Z':\n",
    "                    m = ord(ch) - ord('A') + 2\n",
    "                elif ch>='a' and ch<='z':\n",
    "                    m = ord(ch) - ord('a') + 2 + 26\n",
    "                elif ch == '.':\n",
    "                    m = 1\n",
    "                elif ch == '!':\n",
    "                    m=0\n",
    "                for k in range(5):\n",
    "                    if alphabet[m][k] & 1<<i:\n",
    "                        print '#',\n",
    "                    else:\n",
    "                        print ' ',\n",
    "                print ' '*interspace,\n",
    "                \n",
    "            print '\\n',\n",
    "        print '\\n'\n",
    "        \n",
    "    leftchars=l%cpl\n",
    "    for i in range(7):\n",
    "        for j in range(leftchars):\n",
    "            ch=inputletters[j+cpl*lines]\n",
    "            if ch>='A' and ch<='Z':\n",
    "                m = ord(ch) - ord('A') + 2\n",
    "            elif ch>='a' and ch<='z':\n",
    "                m = ord(ch) - ord('a') + 2 + 26\n",
    "            elif ch == '.':\n",
    "                m = 1\n",
    "            elif ch == '!':\n",
    "                m=0\n",
    "            for k in range(5):\n",
    "                if alphabet[m][k] & 1<<i:\n",
    "                    print '#',\n",
    "                else:\n",
    "                    print ' ',\n",
    "            print ' '*interspace,\n",
    "            \n",
    "        print '\\n',\n"
   ]
  },
  {
   "cell_type": "markdown",
   "metadata": {},
   "source": [
    "### 下面运行源代码定义的`stramplifier`函数："
   ]
  },
  {
   "cell_type": "code",
   "execution_count": 3,
   "metadata": {
    "collapsed": false
   },
   "outputs": [
    {
     "name": "stdout",
     "output_type": "stream",
     "text": [
      "Please input the strings you want to amplify:\n",
      "YueShaosheng\n",
      "#       #                             # # # #   #                                   \n",
      "#       #                           #           #                                   \n",
      "#       #   #       #     # # #     #           #   # #       # # #       # # #     \n",
      "  #   #     #       #   #       #     # # #     # #     #           #   #       #   \n",
      "    #       #       #   # # # # #           #   #       #     # # # #   #       #   \n",
      "    #       #     # #   #                   #   #       #   #       #   #       #   \n",
      "    #         # #   #     # # #     # # # #     #       #     # # # #     # # #     \n",
      "\n",
      "\n",
      "            #                                               \n",
      "            #                                     # # # #   \n",
      "  # # #     #   # #       # # #     #   # #     #       #   \n",
      "#           # #     #   #       #   # #     #   #       #   \n",
      "  # # #     #       #   # # # # #   #       #     # # # #   \n",
      "        #   #       #   #           #       #           #   \n",
      "# # # #     #       #     # # #     #       #     # # #     \n"
     ]
    }
   ],
   "source": [
    "stramplifier()"
   ]
  },
  {
   "cell_type": "markdown",
   "metadata": {
    "collapsed": true
   },
   "source": [
    "### 倒序拼写："
   ]
  },
  {
   "cell_type": "code",
   "execution_count": 3,
   "metadata": {
    "collapsed": false
   },
   "outputs": [
    {
     "name": "stdout",
     "output_type": "stream",
     "text": [
      "Please input the strings you want to amplify:\n",
      "gnehsoahSeuY\n",
      "                                    #                                               \n",
      "  # # # #                           #                                               \n",
      "#       #   #   # #       # # #     #   # #       # # #       # # #       # # #     \n",
      "#       #   # #     #   #       #   # #     #   #           #       #           #   \n",
      "  # # # #   #       #   # # # # #   #       #     # # #     #       #     # # # #   \n",
      "        #   #       #   #           #       #           #   #       #   #       #   \n",
      "  # # #     #       #     # # #     #       #   # # # #       # # #       # # # #   \n",
      "\n",
      "\n",
      "#             # # # #                           #       #   \n",
      "#           #                                   #       #   \n",
      "#   # #     #             # # #     #       #   #       #   \n",
      "# #     #     # # #     #       #   #       #     #   #     \n",
      "#       #           #   # # # # #   #       #       #       \n",
      "#       #           #   #           #     # #       #       \n",
      "#       #   # # # #       # # #       # #   #       #       \n"
     ]
    }
   ],
   "source": [
    "stramplifier()"
   ]
  },
  {
   "cell_type": "markdown",
   "metadata": {},
   "source": [
    "> ## Homework3_leve_3"
   ]
  },
  {
   "cell_type": "code",
   "execution_count": null,
   "metadata": {
    "collapsed": true
   },
   "outputs": [],
   "source": []
  }
 ],
 "metadata": {
  "kernelspec": {
   "display_name": "Python 2",
   "language": "python",
   "name": "python2"
  },
  "language_info": {
   "codemirror_mode": {
    "name": "ipython",
    "version": 2
   },
   "file_extension": ".py",
   "mimetype": "text/x-python",
   "name": "python",
   "nbconvert_exporter": "python",
   "pygments_lexer": "ipython2",
   "version": "2.7.11"
  }
 },
 "nbformat": 4,
 "nbformat_minor": 0
}
